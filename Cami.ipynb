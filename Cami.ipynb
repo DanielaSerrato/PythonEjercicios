{
  "nbformat": 4,
  "nbformat_minor": 0,
  "metadata": {
    "colab": {
      "name": "Cami.ipynb",
      "provenance": [],
      "authorship_tag": "ABX9TyMVzLk0sechNONrdXkEDE3E",
      "include_colab_link": true
    },
    "kernelspec": {
      "name": "python3",
      "display_name": "Python 3"
    },
    "language_info": {
      "name": "python"
    }
  },
  "cells": [
    {
      "cell_type": "markdown",
      "metadata": {
        "id": "view-in-github",
        "colab_type": "text"
      },
      "source": [
        "<a href=\"https://colab.research.google.com/github/DanielaSerrato/PythonEjercicios/blob/master/Cami.ipynb\" target=\"_parent\"><img src=\"https://colab.research.google.com/assets/colab-badge.svg\" alt=\"Open In Colab\"/></a>"
      ]
    },
    {
      "cell_type": "code",
      "metadata": {
        "id": "VAmMYKsJsbgv"
      },
      "source": [
        "import pandas as pd\n",
        "from datetime import *\n",
        "import datetime as dt\n",
        "from time import *\n",
        "import matplotlib.pyplot as plt\n",
        "import numpy as np\n",
        "import seaborn as sns "
      ],
      "execution_count": 1,
      "outputs": []
    },
    {
      "cell_type": "code",
      "metadata": {
        "id": "Z-6sCVCosIUS"
      },
      "source": [
        "#Leer el archivo\n",
        "Data=pd.read_csv('/content/Encuesta_de_movilidad_de_Bogot__2015___Caracterizaci_n_viajes___Origen_Destino.csv')"
      ],
      "execution_count": 2,
      "outputs": []
    },
    {
      "cell_type": "code",
      "metadata": {
        "colab": {
          "base_uri": "https://localhost:8080/",
          "height": 225
        },
        "id": "HHhm1OBWsfQ1",
        "outputId": "e253943f-0050-4d1e-8c49-1d64213b7ed8"
      },
      "source": [
        "Data.head()"
      ],
      "execution_count": 3,
      "outputs": [
        {
          "output_type": "execute_result",
          "data": {
            "text/html": [
              "<div>\n",
              "<style scoped>\n",
              "    .dataframe tbody tr th:only-of-type {\n",
              "        vertical-align: middle;\n",
              "    }\n",
              "\n",
              "    .dataframe tbody tr th {\n",
              "        vertical-align: top;\n",
              "    }\n",
              "\n",
              "    .dataframe thead th {\n",
              "        text-align: right;\n",
              "    }\n",
              "</style>\n",
              "<table border=\"1\" class=\"dataframe\">\n",
              "  <thead>\n",
              "    <tr style=\"text-align: right;\">\n",
              "      <th></th>\n",
              "      <th>ID_ENCUESTA</th>\n",
              "      <th>NUMERO_PERSONA</th>\n",
              "      <th>NUMERO_VIAJE</th>\n",
              "      <th>MOTIVOVIAJE</th>\n",
              "      <th>MUNICIPIO_DESTINO</th>\n",
              "      <th>DEPARTAMENTO_DESTINO</th>\n",
              "      <th>TIEMPO_CAMINO</th>\n",
              "      <th>HORA_INICIO</th>\n",
              "      <th>HORA_FIN</th>\n",
              "      <th>MEDIO_PREDOMINANTE</th>\n",
              "      <th>ZAT_DESTINO</th>\n",
              "      <th>ZAT_ORIGEN</th>\n",
              "      <th>MUNICIPIO_ORIGEN</th>\n",
              "      <th>DEPARTAMENTO_ORIGEN</th>\n",
              "      <th>LATITUD_ORIGEN</th>\n",
              "      <th>LATITUD_DESTINO</th>\n",
              "      <th>LONGITUD_ORIGEN</th>\n",
              "      <th>LONGITUD_DESTINO</th>\n",
              "      <th>DIFERENCIA_HORAS</th>\n",
              "      <th>FACTOR_AJUSTE</th>\n",
              "      <th>PONDERADOR_CALIBRADO</th>\n",
              "      <th>DIA_HABIL</th>\n",
              "      <th>DIA_NOHABIL</th>\n",
              "      <th>PICO_HABIL</th>\n",
              "      <th>PICO_NOHABIL</th>\n",
              "      <th>VALLE_NOHABIL</th>\n",
              "      <th>VALLE_HABIL</th>\n",
              "      <th>PI_K_I</th>\n",
              "      <th>PI_K_II</th>\n",
              "      <th>PI_K_III</th>\n",
              "      <th>FE_TOTAL</th>\n",
              "      <th>FACTOR_AJUSTE_TRANSMILENIO</th>\n",
              "      <th>PONDERADOR_CALIBRADO_VIAJES</th>\n",
              "    </tr>\n",
              "  </thead>\n",
              "  <tbody>\n",
              "    <tr>\n",
              "      <th>0</th>\n",
              "      <td>18390069</td>\n",
              "      <td>2.0</td>\n",
              "      <td>1.0</td>\n",
              "      <td>Tramites</td>\n",
              "      <td>BOGOTA-DC 11001</td>\n",
              "      <td>Bogota D.C.</td>\n",
              "      <td>10.0</td>\n",
              "      <td>08:05:00</td>\n",
              "      <td>09:55:00</td>\n",
              "      <td>TPC-SITP</td>\n",
              "      <td>238.0</td>\n",
              "      <td>566.0</td>\n",
              "      <td>BOGOTA-DC 11001</td>\n",
              "      <td>Bogota D.C.</td>\n",
              "      <td>4.613055e+13</td>\n",
              "      <td>4.650268e+13</td>\n",
              "      <td>-7.419059e+13</td>\n",
              "      <td>-7.406759e+13</td>\n",
              "      <td>01:50:00</td>\n",
              "      <td>8.800390e+14</td>\n",
              "      <td>1.108273e+14</td>\n",
              "      <td>S</td>\n",
              "      <td>NaN</td>\n",
              "      <td>NaN</td>\n",
              "      <td>NaN</td>\n",
              "      <td>NaN</td>\n",
              "      <td>NaN</td>\n",
              "      <td>3.205606e+14</td>\n",
              "      <td>3.928571e+14</td>\n",
              "      <td>1.0</td>\n",
              "      <td>1.259345e+14</td>\n",
              "      <td>1.202936e+14</td>\n",
              "      <td>1.333182e+14</td>\n",
              "    </tr>\n",
              "    <tr>\n",
              "      <th>1</th>\n",
              "      <td>18390069</td>\n",
              "      <td>2.0</td>\n",
              "      <td>2.0</td>\n",
              "      <td>Volver a casa</td>\n",
              "      <td>BOGOTA-DC 11001</td>\n",
              "      <td>Bogota D.C.</td>\n",
              "      <td>10.0</td>\n",
              "      <td>10:21:05</td>\n",
              "      <td>12:11:05</td>\n",
              "      <td>TPC-SITP</td>\n",
              "      <td>566.0</td>\n",
              "      <td>238.0</td>\n",
              "      <td>BOGOTA-DC 11001</td>\n",
              "      <td>Bogota D.C.</td>\n",
              "      <td>4.650268e+13</td>\n",
              "      <td>4.613055e+13</td>\n",
              "      <td>-7.406759e+13</td>\n",
              "      <td>-7.419059e+13</td>\n",
              "      <td>01:50:00</td>\n",
              "      <td>8.800390e+14</td>\n",
              "      <td>1.108273e+14</td>\n",
              "      <td>S</td>\n",
              "      <td>NaN</td>\n",
              "      <td>NaN</td>\n",
              "      <td>NaN</td>\n",
              "      <td>NaN</td>\n",
              "      <td>S</td>\n",
              "      <td>3.205606e+14</td>\n",
              "      <td>3.928571e+14</td>\n",
              "      <td>1.0</td>\n",
              "      <td>1.259345e+14</td>\n",
              "      <td>1.202936e+14</td>\n",
              "      <td>1.333182e+14</td>\n",
              "    </tr>\n",
              "    <tr>\n",
              "      <th>2</th>\n",
              "      <td>18390069</td>\n",
              "      <td>3.0</td>\n",
              "      <td>1.0</td>\n",
              "      <td>Estudiar</td>\n",
              "      <td>BOGOTA-DC 11001</td>\n",
              "      <td>Bogota D.C.</td>\n",
              "      <td>10.0</td>\n",
              "      <td>06:27:00</td>\n",
              "      <td>06:45:00</td>\n",
              "      <td>PEATON</td>\n",
              "      <td>564.0</td>\n",
              "      <td>566.0</td>\n",
              "      <td>BOGOTA-DC 11001</td>\n",
              "      <td>Bogota D.C.</td>\n",
              "      <td>4.613055e+13</td>\n",
              "      <td>4.615613e+13</td>\n",
              "      <td>-7.419059e+13</td>\n",
              "      <td>-7.419014e+13</td>\n",
              "      <td>00:18:00</td>\n",
              "      <td>8.800390e+14</td>\n",
              "      <td>1.108273e+14</td>\n",
              "      <td>S</td>\n",
              "      <td>NaN</td>\n",
              "      <td>S</td>\n",
              "      <td>NaN</td>\n",
              "      <td>NaN</td>\n",
              "      <td>NaN</td>\n",
              "      <td>3.205606e+14</td>\n",
              "      <td>3.928571e+14</td>\n",
              "      <td>1.0</td>\n",
              "      <td>1.259345e+14</td>\n",
              "      <td>1.202936e+14</td>\n",
              "      <td>1.333182e+14</td>\n",
              "    </tr>\n",
              "    <tr>\n",
              "      <th>3</th>\n",
              "      <td>18390069</td>\n",
              "      <td>3.0</td>\n",
              "      <td>2.0</td>\n",
              "      <td>Volver a casa</td>\n",
              "      <td>BOGOTA-DC 11001</td>\n",
              "      <td>Bogota D.C.</td>\n",
              "      <td>10.0</td>\n",
              "      <td>08:46:27</td>\n",
              "      <td>09:41:27</td>\n",
              "      <td>PEATON</td>\n",
              "      <td>566.0</td>\n",
              "      <td>564.0</td>\n",
              "      <td>BOGOTA-DC 11001</td>\n",
              "      <td>Bogota D.C.</td>\n",
              "      <td>4.615613e+13</td>\n",
              "      <td>4.613055e+13</td>\n",
              "      <td>-7.419014e+13</td>\n",
              "      <td>-7.419059e+13</td>\n",
              "      <td>00:55:00</td>\n",
              "      <td>8.800390e+14</td>\n",
              "      <td>1.108273e+14</td>\n",
              "      <td>S</td>\n",
              "      <td>NaN</td>\n",
              "      <td>NaN</td>\n",
              "      <td>NaN</td>\n",
              "      <td>NaN</td>\n",
              "      <td>NaN</td>\n",
              "      <td>3.205606e+14</td>\n",
              "      <td>3.928571e+14</td>\n",
              "      <td>1.0</td>\n",
              "      <td>1.259345e+14</td>\n",
              "      <td>1.202936e+14</td>\n",
              "      <td>1.333182e+14</td>\n",
              "    </tr>\n",
              "    <tr>\n",
              "      <th>4</th>\n",
              "      <td>18390891</td>\n",
              "      <td>1.0</td>\n",
              "      <td>1.0</td>\n",
              "      <td>Trabajar</td>\n",
              "      <td>BOGOTA-DC 11001</td>\n",
              "      <td>Bogota D.C.</td>\n",
              "      <td>7.0</td>\n",
              "      <td>07:47:00</td>\n",
              "      <td>09:19:00</td>\n",
              "      <td>MOTO</td>\n",
              "      <td>138.0</td>\n",
              "      <td>227.0</td>\n",
              "      <td>BOGOTA-DC 11001</td>\n",
              "      <td>Bogota D.C.</td>\n",
              "      <td>4.657764e+13</td>\n",
              "      <td>4.689988e+13</td>\n",
              "      <td>-7.407483e+13</td>\n",
              "      <td>-7.406549e+13</td>\n",
              "      <td>01:32:00</td>\n",
              "      <td>6.215408e+13</td>\n",
              "      <td>4.059711e+14</td>\n",
              "      <td>S</td>\n",
              "      <td>NaN</td>\n",
              "      <td>NaN</td>\n",
              "      <td>NaN</td>\n",
              "      <td>NaN</td>\n",
              "      <td>NaN</td>\n",
              "      <td>1.492957e+14</td>\n",
              "      <td>4.375000e+03</td>\n",
              "      <td>1.0</td>\n",
              "      <td>6.531689e+14</td>\n",
              "      <td>1.202936e+14</td>\n",
              "      <td>4.883575e+14</td>\n",
              "    </tr>\n",
              "  </tbody>\n",
              "</table>\n",
              "</div>"
            ],
            "text/plain": [
              "  ID_ENCUESTA  ...  PONDERADOR_CALIBRADO_VIAJES\n",
              "0    18390069  ...                 1.333182e+14\n",
              "1    18390069  ...                 1.333182e+14\n",
              "2    18390069  ...                 1.333182e+14\n",
              "3    18390069  ...                 1.333182e+14\n",
              "4    18390891  ...                 4.883575e+14\n",
              "\n",
              "[5 rows x 33 columns]"
            ]
          },
          "metadata": {},
          "execution_count": 3
        }
      ]
    },
    {
      "cell_type": "code",
      "metadata": {
        "colab": {
          "base_uri": "https://localhost:8080/"
        },
        "id": "cnxxDOvZslJw",
        "outputId": "0f1cfaef-22ab-4ef2-c7fe-9de396d66a95"
      },
      "source": [
        "Data.columns"
      ],
      "execution_count": 4,
      "outputs": [
        {
          "output_type": "execute_result",
          "data": {
            "text/plain": [
              "Index(['ID_ENCUESTA', 'NUMERO_PERSONA', 'NUMERO_VIAJE', 'MOTIVOVIAJE',\n",
              "       'MUNICIPIO_DESTINO', 'DEPARTAMENTO_DESTINO', 'TIEMPO_CAMINO',\n",
              "       'HORA_INICIO', 'HORA_FIN', 'MEDIO_PREDOMINANTE', 'ZAT_DESTINO',\n",
              "       'ZAT_ORIGEN', 'MUNICIPIO_ORIGEN', 'DEPARTAMENTO_ORIGEN',\n",
              "       'LATITUD_ORIGEN', 'LATITUD_DESTINO', 'LONGITUD_ORIGEN',\n",
              "       'LONGITUD_DESTINO', 'DIFERENCIA_HORAS', 'FACTOR_AJUSTE',\n",
              "       'PONDERADOR_CALIBRADO', 'DIA_HABIL', 'DIA_NOHABIL', 'PICO_HABIL',\n",
              "       'PICO_NOHABIL', 'VALLE_NOHABIL', 'VALLE_HABIL', 'PI_K_I', 'PI_K_II',\n",
              "       'PI_K_III', 'FE_TOTAL', 'FACTOR_AJUSTE_TRANSMILENIO',\n",
              "       'PONDERADOR_CALIBRADO_VIAJES'],\n",
              "      dtype='object')"
            ]
          },
          "metadata": {},
          "execution_count": 4
        }
      ]
    },
    {
      "cell_type": "code",
      "metadata": {
        "id": "ocuVwSGgq0WI"
      },
      "source": [
        "Data['DIFERENCIA_HORAS']=pd.to_timedelta(Data['DIFERENCIA_HORAS'])\n",
        "Data['HORA_INICIO']=pd.to_datetime(Data['HORA_INICIO']).round('60 min')\n",
        "#Pasar de formato de HH:MM:SS a minutos\n",
        "Data['DIFERENCIA_HORAS']=Data['DIFERENCIA_HORAS']/ np.timedelta64(1, \"m\")\n",
        "\n",
        "\n"
      ],
      "execution_count": 40,
      "outputs": []
    },
    {
      "cell_type": "code",
      "metadata": {
        "colab": {
          "base_uri": "https://localhost:8080/"
        },
        "id": "WwmiyzgZDDVS",
        "outputId": "fbc5fc20-5b04-40d7-dba1-7d6728166b33"
      },
      "source": [
        "Data['HORA_INICIO']"
      ],
      "execution_count": 28,
      "outputs": [
        {
          "output_type": "execute_result",
          "data": {
            "text/plain": [
              "0        2021-11-08 08:00:00\n",
              "1        2021-11-08 10:00:00\n",
              "2        2021-11-08 06:00:00\n",
              "3        2021-11-08 09:00:00\n",
              "4        2021-11-08 08:00:00\n",
              "                 ...        \n",
              "147246   2021-11-08 18:00:00\n",
              "147247   2021-11-08 06:00:00\n",
              "147248   2021-11-08 14:00:00\n",
              "147249   2021-11-08 04:00:00\n",
              "147250   2021-11-08 18:00:00\n",
              "Name: HORA_INICIO, Length: 147251, dtype: datetime64[ns]"
            ]
          },
          "metadata": {},
          "execution_count": 28
        }
      ]
    },
    {
      "cell_type": "code",
      "metadata": {
        "colab": {
          "base_uri": "https://localhost:8080/",
          "height": 719
        },
        "id": "KJKmjrQ54LYl",
        "outputId": "00a33f5a-0b63-4dbe-d5a1-3b9309e03816"
      },
      "source": [
        "prueba1=Data.groupby(['HORA_INICIO'])['DIFERENCIA_HORAS'].count()\n",
        "plt.figure(figsize=(10, 10))\n",
        "prueba1.plot(kind='bar') "
      ],
      "execution_count": 34,
      "outputs": [
        {
          "output_type": "execute_result",
          "data": {
            "text/plain": [
              "<matplotlib.axes._subplots.AxesSubplot at 0x7fc2e645bb10>"
            ]
          },
          "metadata": {},
          "execution_count": 34
        },
        {
          "output_type": "display_data",
          "data": {
            "image/png": "[encoded data removed]",
            "text/plain": [
              "<Figure size 720x720 with 1 Axes>"
            ]
          },
          "metadata": {
            "needs_background": "light"
          }
        }
      ]
    },
    {
      "cell_type": "code",
      "metadata": {
        "colab": {
          "base_uri": "https://localhost:8080/",
          "height": 312
        },
        "id": "6OkwfgAl8lVM",
        "outputId": "5ef6b15f-5de5-4972-a18b-eba115af6d35"
      },
      "source": [
        "DataMFM=Data.loc[(Data[\"MUNICIPIO_ORIGEN\"]==\"MOSQUERA-cundinamarca 25473\")|(Data[\"MUNICIPIO_ORIGEN\"]==\"MADRID-cundinamarca 25430\")|(Data[\"MUNICIPIO_ORIGEN\"]==\"FUNZA-cundinamarca 25286\")]\n",
        "DataMFM=DataMFM.loc[(DataMFM[\"MUNICIPIO_DESTINO\"]==\"BOGOTA-DC 11001\")]\n",
        "DataMFM.head()\n"
      ],
      "execution_count": 8,
      "outputs": [
        {
          "output_type": "execute_result",
          "data": {
            "text/html": [
              "<div>\n",
              "<style scoped>\n",
              "    .dataframe tbody tr th:only-of-type {\n",
              "        vertical-align: middle;\n",
              "    }\n",
              "\n",
              "    .dataframe tbody tr th {\n",
              "        vertical-align: top;\n",
              "    }\n",
              "\n",
              "    .dataframe thead th {\n",
              "        text-align: right;\n",
              "    }\n",
              "</style>\n",
              "<table border=\"1\" class=\"dataframe\">\n",
              "  <thead>\n",
              "    <tr style=\"text-align: right;\">\n",
              "      <th></th>\n",
              "      <th>ID_ENCUESTA</th>\n",
              "      <th>NUMERO_PERSONA</th>\n",
              "      <th>NUMERO_VIAJE</th>\n",
              "      <th>MOTIVOVIAJE</th>\n",
              "      <th>MUNICIPIO_DESTINO</th>\n",
              "      <th>DEPARTAMENTO_DESTINO</th>\n",
              "      <th>TIEMPO_CAMINO</th>\n",
              "      <th>HORA_INICIO</th>\n",
              "      <th>HORA_FIN</th>\n",
              "      <th>MEDIO_PREDOMINANTE</th>\n",
              "      <th>ZAT_DESTINO</th>\n",
              "      <th>ZAT_ORIGEN</th>\n",
              "      <th>MUNICIPIO_ORIGEN</th>\n",
              "      <th>DEPARTAMENTO_ORIGEN</th>\n",
              "      <th>LATITUD_ORIGEN</th>\n",
              "      <th>LATITUD_DESTINO</th>\n",
              "      <th>LONGITUD_ORIGEN</th>\n",
              "      <th>LONGITUD_DESTINO</th>\n",
              "      <th>DIFERENCIA_HORAS</th>\n",
              "      <th>FACTOR_AJUSTE</th>\n",
              "      <th>PONDERADOR_CALIBRADO</th>\n",
              "      <th>DIA_HABIL</th>\n",
              "      <th>DIA_NOHABIL</th>\n",
              "      <th>PICO_HABIL</th>\n",
              "      <th>PICO_NOHABIL</th>\n",
              "      <th>VALLE_NOHABIL</th>\n",
              "      <th>VALLE_HABIL</th>\n",
              "      <th>PI_K_I</th>\n",
              "      <th>PI_K_II</th>\n",
              "      <th>PI_K_III</th>\n",
              "      <th>FE_TOTAL</th>\n",
              "      <th>FACTOR_AJUSTE_TRANSMILENIO</th>\n",
              "      <th>PONDERADOR_CALIBRADO_VIAJES</th>\n",
              "    </tr>\n",
              "  </thead>\n",
              "  <tbody>\n",
              "    <tr>\n",
              "      <th>83</th>\n",
              "      <td>18393181</td>\n",
              "      <td>1.0</td>\n",
              "      <td>2.0</td>\n",
              "      <td>Volver a casa</td>\n",
              "      <td>BOGOTA-DC 11001</td>\n",
              "      <td>Bogota D.C.</td>\n",
              "      <td>6.0</td>\n",
              "      <td>2021-11-08 11:30:00</td>\n",
              "      <td>13:46:00</td>\n",
              "      <td>ESPECIAL</td>\n",
              "      <td>411.0</td>\n",
              "      <td>900.0</td>\n",
              "      <td>MOSQUERA-cundinamarca 25473</td>\n",
              "      <td>Cundinamarca</td>\n",
              "      <td>47102423.0</td>\n",
              "      <td>4.641298e+13</td>\n",
              "      <td>-742144199.0</td>\n",
              "      <td>-7.416191e+13</td>\n",
              "      <td>140.000000</td>\n",
              "      <td>6.390267e+14</td>\n",
              "      <td>2.759664e+13</td>\n",
              "      <td>NaN</td>\n",
              "      <td>S</td>\n",
              "      <td>NaN</td>\n",
              "      <td>NaN</td>\n",
              "      <td>S</td>\n",
              "      <td>NaN</td>\n",
              "      <td>1.472230e+14</td>\n",
              "      <td>4.888889e+14</td>\n",
              "      <td>6.0</td>\n",
              "      <td>4.318543e+14</td>\n",
              "      <td>1.202936e+14</td>\n",
              "      <td>3.319701e+14</td>\n",
              "    </tr>\n",
              "    <tr>\n",
              "      <th>295</th>\n",
              "      <td>18475430</td>\n",
              "      <td>2.0</td>\n",
              "      <td>2.0</td>\n",
              "      <td>Trabajar</td>\n",
              "      <td>BOGOTA-DC 11001</td>\n",
              "      <td>Bogota D.C.</td>\n",
              "      <td>4.0</td>\n",
              "      <td>2021-11-08 13:00:00</td>\n",
              "      <td>14:12:00</td>\n",
              "      <td>TPC-SITP</td>\n",
              "      <td>112.0</td>\n",
              "      <td>902.0</td>\n",
              "      <td>MADRID-cundinamarca 25430</td>\n",
              "      <td>Cundinamarca</td>\n",
              "      <td>47335737.0</td>\n",
              "      <td>4.731624e+13</td>\n",
              "      <td>-742643772.0</td>\n",
              "      <td>-7.409905e+13</td>\n",
              "      <td>65.000000</td>\n",
              "      <td>5.561041e+14</td>\n",
              "      <td>8.899586e+14</td>\n",
              "      <td>S</td>\n",
              "      <td>NaN</td>\n",
              "      <td>NaN</td>\n",
              "      <td>NaN</td>\n",
              "      <td>NaN</td>\n",
              "      <td>NaN</td>\n",
              "      <td>4.572416e+14</td>\n",
              "      <td>3.500000e+01</td>\n",
              "      <td>1.0</td>\n",
              "      <td>1.600345e+14</td>\n",
              "      <td>1.202936e+14</td>\n",
              "      <td>1.070564e+14</td>\n",
              "    </tr>\n",
              "    <tr>\n",
              "      <th>546</th>\n",
              "      <td>18477469</td>\n",
              "      <td>2.0</td>\n",
              "      <td>2.0</td>\n",
              "      <td>Volver a casa</td>\n",
              "      <td>BOGOTA-DC 11001</td>\n",
              "      <td>Bogota D.C.</td>\n",
              "      <td>NaN</td>\n",
              "      <td>2021-11-08 08:30:00</td>\n",
              "      <td>09:48:35</td>\n",
              "      <td>TPC-SITP</td>\n",
              "      <td>399.0</td>\n",
              "      <td>901.0</td>\n",
              "      <td>FUNZA-cundinamarca 25286</td>\n",
              "      <td>Cundinamarca</td>\n",
              "      <td>47167432.0</td>\n",
              "      <td>4.674626e+12</td>\n",
              "      <td>-742117265.0</td>\n",
              "      <td>-7.415029e+13</td>\n",
              "      <td>66.883333</td>\n",
              "      <td>4.313370e+13</td>\n",
              "      <td>5.007314e+14</td>\n",
              "      <td>S</td>\n",
              "      <td>NaN</td>\n",
              "      <td>NaN</td>\n",
              "      <td>NaN</td>\n",
              "      <td>NaN</td>\n",
              "      <td>NaN</td>\n",
              "      <td>2.902205e+14</td>\n",
              "      <td>4.000000e+00</td>\n",
              "      <td>1.0</td>\n",
              "      <td>1.160882e+14</td>\n",
              "      <td>1.202936e+14</td>\n",
              "      <td>6.023481e+14</td>\n",
              "    </tr>\n",
              "    <tr>\n",
              "      <th>578</th>\n",
              "      <td>18477479</td>\n",
              "      <td>1.0</td>\n",
              "      <td>2.0</td>\n",
              "      <td>Volver a casa</td>\n",
              "      <td>BOGOTA-DC 11001</td>\n",
              "      <td>Bogota D.C.</td>\n",
              "      <td>5.0</td>\n",
              "      <td>2021-11-08 17:00:00</td>\n",
              "      <td>20:00:00</td>\n",
              "      <td>Transmilenio</td>\n",
              "      <td>117.0</td>\n",
              "      <td>902.0</td>\n",
              "      <td>MADRID-cundinamarca 25430</td>\n",
              "      <td>Cundinamarca</td>\n",
              "      <td>47335737.0</td>\n",
              "      <td>4.746661e+13</td>\n",
              "      <td>-742643772.0</td>\n",
              "      <td>-7.412158e+12</td>\n",
              "      <td>180.000000</td>\n",
              "      <td>5.561041e+14</td>\n",
              "      <td>8.899586e+13</td>\n",
              "      <td>S</td>\n",
              "      <td>NaN</td>\n",
              "      <td>NaN</td>\n",
              "      <td>NaN</td>\n",
              "      <td>NaN</td>\n",
              "      <td>NaN</td>\n",
              "      <td>2.546004e+14</td>\n",
              "      <td>6.285714e+14</td>\n",
              "      <td>1.0</td>\n",
              "      <td>1.600345e+14</td>\n",
              "      <td>1.202936e+14</td>\n",
              "      <td>1.070564e+14</td>\n",
              "    </tr>\n",
              "    <tr>\n",
              "      <th>2359</th>\n",
              "      <td>18514179</td>\n",
              "      <td>1.0</td>\n",
              "      <td>2.0</td>\n",
              "      <td>Volver a casa</td>\n",
              "      <td>BOGOTA-DC 11001</td>\n",
              "      <td>Bogota D.C.</td>\n",
              "      <td>0.0</td>\n",
              "      <td>2021-11-08 14:00:00</td>\n",
              "      <td>16:01:00</td>\n",
              "      <td>MOTO</td>\n",
              "      <td>627.0</td>\n",
              "      <td>900.0</td>\n",
              "      <td>MOSQUERA-cundinamarca 25473</td>\n",
              "      <td>Cundinamarca</td>\n",
              "      <td>47102423.0</td>\n",
              "      <td>4.576436e+13</td>\n",
              "      <td>-742144199.0</td>\n",
              "      <td>-7.414971e+13</td>\n",
              "      <td>110.000000</td>\n",
              "      <td>6.193529e+14</td>\n",
              "      <td>4.449672e+14</td>\n",
              "      <td>S</td>\n",
              "      <td>NaN</td>\n",
              "      <td>NaN</td>\n",
              "      <td>NaN</td>\n",
              "      <td>NaN</td>\n",
              "      <td>NaN</td>\n",
              "      <td>7.043519e+14</td>\n",
              "      <td>3.400000e+01</td>\n",
              "      <td>3.0</td>\n",
              "      <td>7.184390e+14</td>\n",
              "      <td>1.202936e+14</td>\n",
              "      <td>5.352673e+14</td>\n",
              "    </tr>\n",
              "  </tbody>\n",
              "</table>\n",
              "</div>"
            ],
            "text/plain": [
              "     ID_ENCUESTA  ...  PONDERADOR_CALIBRADO_VIAJES\n",
              "83      18393181  ...                 3.319701e+14\n",
              "295     18475430  ...                 1.070564e+14\n",
              "546     18477469  ...                 6.023481e+14\n",
              "578     18477479  ...                 1.070564e+14\n",
              "2359    18514179  ...                 5.352673e+14\n",
              "\n",
              "[5 rows x 33 columns]"
            ]
          },
          "metadata": {},
          "execution_count": 8
        }
      ]
    },
    {
      "cell_type": "code",
      "metadata": {
        "id": "cLjjwEOBxRoC"
      },
      "source": [
        "DatosagrupadosMedio=DataMFM.groupby(['MEDIO_PREDOMINANTE','MUNICIPIO_ORIGEN'])['ID_ENCUESTA'].nunique()\n",
        "DatosagrupadosMedio= DatosagrupadosMedio.reset_index() \n"
      ],
      "execution_count": 13,
      "outputs": []
    },
    {
      "cell_type": "code",
      "metadata": {
        "colab": {
          "base_uri": "https://localhost:8080/",
          "height": 538
        },
        "id": "4ghUN7WoVzcn",
        "outputId": "8da43523-a3d2-4788-811e-5b62ce831951"
      },
      "source": [
        "plt.figure(figsize=(12, 8)) \n",
        "sns.barplot(x='MEDIO_PREDOMINANTE', y='ID_ENCUESTA', \n",
        "            hue='MUNICIPIO_ORIGEN', data=DatosagrupadosMedio\n",
        "          ) \n",
        "  \n",
        "plt.ylabel(\"Numero de encuestas\", size=14) \n",
        "plt.xlabel(\"Medio Predominante\", size=14) \n",
        "plt.title(\"pichurris\", size=18) "
      ],
      "execution_count": 14,
      "outputs": [
        {
          "output_type": "execute_result",
          "data": {
            "text/plain": [
              "Text(0.5, 1.0, 'pichurris')"
            ]
          },
          "metadata": {},
          "execution_count": 14
        },
        {
          "output_type": "display_data",
          "data": {
            "image/png": "[encoded data removed]",
            "text/plain": [
              "<Figure size 864x576 with 1 Axes>"
            ]
          },
          "metadata": {
            "needs_background": "light"
          }
        }
      ]
    },
    {
      "cell_type": "code",
      "metadata": {
        "id": "HYUBHPgeYT27"
      },
      "source": [
        "DatosagrupadosDuracion=DataMFM.groupby(['MEDIO_PREDOMINANTE','MUNICIPIO_ORIGEN'])['DIFERENCIA_HORAS'].mean()\n",
        "DatosagrupadosDuracion= DatosagrupadosDuracion.reset_index() \n"
      ],
      "execution_count": 15,
      "outputs": []
    },
    {
      "cell_type": "code",
      "metadata": {
        "colab": {
          "base_uri": "https://localhost:8080/",
          "height": 538
        },
        "id": "JBqZ69gI7U8T",
        "outputId": "496c2c72-3d24-46bb-ef9e-e68df41c7640"
      },
      "source": [
        "plt.figure(figsize=(12, 8)) \n",
        "sns.barplot(x='MEDIO_PREDOMINANTE', y='DIFERENCIA_HORAS', \n",
        "            hue='MUNICIPIO_ORIGEN', data=DatosagrupadosDuracion\n",
        "          ) \n",
        "  \n",
        "plt.ylabel(\"Promedio en minutos\", size=14) \n",
        "plt.xlabel(\"Medio Predominante\", size=14) \n",
        "plt.title(\"pichurris 2\", size=18) "
      ],
      "execution_count": 16,
      "outputs": [
        {
          "output_type": "execute_result",
          "data": {
            "text/plain": [
              "Text(0.5, 1.0, 'pichurris 2')"
            ]
          },
          "metadata": {},
          "execution_count": 16
        },
        {
          "output_type": "display_data",
          "data": {
            "image/png": "[encoded data removed]",
            "text/plain": [
              "<Figure size 864x576 with 1 Axes>"
            ]
          },
          "metadata": {
            "needs_background": "light"
          }
        }
      ]
    },
    {
      "cell_type": "code",
      "metadata": {
        "colab": {
          "base_uri": "https://localhost:8080/",
          "height": 438
        },
        "id": "OntO1nIc8Qm_",
        "outputId": "63576545-9dd8-4b94-9412-62c73ffc02d9"
      },
      "source": [
        "DatosagrupadosMotivo=DataMFM.groupby(['MOTIVOVIAJE','MUNICIPIO_ORIGEN'])['DIFERENCIA_HORAS'].mean()\n",
        "DatosagrupadosMotivo= DatosagrupadosMotivo.reset_index() \n",
        "plt.figure(figsize=(15,8 )) \n",
        "sns.barplot(x='DIFERENCIA_HORAS', y='MOTIVOVIAJE', \n",
        "            hue='MUNICIPIO_ORIGEN', data=DatosagrupadosMotivo\n",
        "          ) \n",
        "  \n",
        "plt.ylabel(\"Promedio en minutos\", size=14) \n",
        "plt.xlabel(\"Medio Predominante\", size=14) \n",
        "plt.title(\"pichurris 3\", size=18) "
      ],
      "execution_count": 17,
      "outputs": [
        {
          "output_type": "execute_result",
          "data": {
            "text/plain": [
              "Text(0.5, 1.0, 'pichurris 3')"
            ]
          },
          "metadata": {},
          "execution_count": 17
        },
        {
          "output_type": "display_data",
          "data": {
            "image/png": "[encoded data removed]",
            "text/plain": [
              "<Figure size 1080x576 with 1 Axes>"
            ]
          },
          "metadata": {
            "needs_background": "light"
          }
        }
      ]
    },
    {
      "cell_type": "code",
      "metadata": {
        "colab": {
          "base_uri": "https://localhost:8080/",
          "height": 610
        },
        "id": "Uv8Mn-yT8-88",
        "outputId": "ffc9865a-9df1-4d5e-94d7-1334ee7e07bc"
      },
      "source": [
        "DatosagrupadosDuracionxHora=DataMFM.groupby(['HORA_INICIO'])['DIFERENCIA_HORAS'].mean()\n",
        "\n",
        "plt.figure(figsize=(15,8 )) \n",
        "DatosagrupadosDuracionxHora.plot(kind='bar')"
      ],
      "execution_count": 38,
      "outputs": [
        {
          "output_type": "execute_result",
          "data": {
            "text/plain": [
              "<matplotlib.axes._subplots.AxesSubplot at 0x7fc2e613e710>"
            ]
          },
          "metadata": {},
          "execution_count": 38
        },
        {
          "output_type": "display_data",
          "data": {
            "image/png": "[encoded data removed]",
            "text/plain": [
              "<Figure size 1080x576 with 1 Axes>"
            ]
          },
          "metadata": {
            "needs_background": "light"
          }
        }
      ]
    }
  ]
}